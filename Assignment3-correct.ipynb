{
 "cells": [
  {
   "cell_type": "code",
   "execution_count": null,
   "metadata": {
    "collapsed": true
   },
   "outputs": [],
   "source": [
    "import pandas as pd"
   ]
  },
  {
   "cell_type": "code",
   "execution_count": null,
   "metadata": {
    "collapsed": false
   },
   "outputs": [],
   "source": [
    "odo_readings = [55 , 120 , 170 , 220 , 270 , 290 ] # insert the odometer readings here which was recorded via pen paper\n",
    "print (\"Odometer Readings Entered:\")\n",
    "print (odo_readings)"
   ]
  },
  {
   "cell_type": "code",
   "execution_count": null,
   "metadata": {
    "collapsed": true
   },
   "outputs": [],
   "source": [
    "#making a pandas series by taking elements of the list odo_readings\n",
    "pd_series = pd.Series(odo_readings)\n",
    "\n",
    "#making a temporary series to check whether the odoemeter readings are logical as the readings should be non-decreasing\n",
    "pd_temp = pd_series.sort_values()   "
   ]
  },
  {
   "cell_type": "code",
   "execution_count": null,
   "metadata": {
    "collapsed": false
   },
   "outputs": [],
   "source": [
    "if pd.Series.equals(pd_temp,pd_series) == False:          # checking whether the odometer reading inserted are logical\n",
    "    print (\"Please check the odometer readings as any reading cant be smaller than the previous one\")\n",
    "    print (pd_series)\n",
    "\n",
    "else:\n",
    "    miles_rode_series = pd.Series()                           # making a series for storing the daily miles rode\n",
    "    print (\"Following are the daily miles rode by the cycler:\")\n",
    "    for i in range(pd_series.shape[0]):\n",
    "        if i == 0:                       # day 1 miles rode will same as odometer readings at the end of the day 1\n",
    "            miles_rode = pd_series[i]\n",
    "        else:\n",
    "            miles_rode = pd_series[i] - pd_series[i-1]\n",
    "        print (\"Day \"+ str(i+1) + \": \" , miles_rode)\n",
    "        day = \"Day \" + str(i+1)\n",
    "        miles_rode_series = miles_rode_series.set_value(day,miles_rode)"
   ]
  },
  {
   "cell_type": "code",
   "execution_count": null,
   "metadata": {
    "collapsed": false
   },
   "outputs": [],
   "source": [
    "print (\"Daily Miles rode using as stored in the pandas series:\")\n",
    "print (miles_rode_series)"
   ]
  },
  {
   "cell_type": "code",
   "execution_count": null,
   "metadata": {
    "collapsed": true
   },
   "outputs": [],
   "source": []
  }
 ],
 "metadata": {
  "anaconda-cloud": {},
  "kernelspec": {
   "display_name": "Python [conda root]",
   "language": "python",
   "name": "conda-root-py"
  },
  "language_info": {
   "codemirror_mode": {
    "name": "ipython",
    "version": 2
   },
   "file_extension": ".py",
   "mimetype": "text/x-python",
   "name": "python",
   "nbconvert_exporter": "python",
   "pygments_lexer": "ipython2",
   "version": "2.7.12"
  }
 },
 "nbformat": 4,
 "nbformat_minor": 1
}
